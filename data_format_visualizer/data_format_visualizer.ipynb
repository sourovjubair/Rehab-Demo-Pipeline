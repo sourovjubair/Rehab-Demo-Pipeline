{
 "cells": [
  {
   "cell_type": "code",
   "execution_count": 2,
   "metadata": {},
   "outputs": [],
   "source": [
    "from pprint import pprint"
   ]
  },
  {
   "cell_type": "markdown",
   "metadata": {},
   "source": [
    "#### .skeleton file structure\n",
    "\n",
    "```\n",
    "'529\\n',\n",
    "# start of a sequence\n",
    "'1\\n',\n",
    "'223 NaN NaN NaN NaN NaN NaN NaN NaN NaN \\n',\n",
    "'25\\n',\n",
    "'0.0019892 0.00905 -0.028848 NaN NaN NaN NaN 0 0 0 0 -0 \\n',\n",
    "...(24 more lines)\n",
    "# end of the sequence\n",
    "# start of a sequence\n",
    "'1\\n',\n",
    "'223 NaN NaN NaN NaN NaN NaN NaN NaN NaN \\n',\n",
    "'25\\n',\n",
    "'0.0019892 0.00905 -0.028848 NaN NaN NaN NaN 0 0 0 0 -0 \\n',\n",
    "...(24 more lines)\n",
    "# end of the sequence\n",
    "# start of a sequence\n",
    "'1\\n',\n",
    "'223 NaN NaN NaN NaN NaN NaN NaN NaN NaN \\n',\n",
    "'25\\n',\n",
    "'0.0019892 0.00905 -0.028848 NaN NaN NaN NaN 0 0 0 0 -0 \\n',\n",
    "...(24 more lines)\n",
    "# end of the sequence\n",
    "```\n",
    "\n",
    "- the first line is the number of frames\n",
    "\n",
    "After the very first line, there are a number of sequences. In each sequence:\n",
    "\n",
    "- the first line is the number of subjects in the frame\n",
    "- second line is the subject id, 'clipedEdges', 'handLeftConfidence', 'handLeftState', 'handRightConfidence', 'handRightState', 'isResticted', 'leanX', 'leanY', 'trackingState'\n",
    "\n",
    "**Note: other than subject id, everything else is NaN in the given sample .skeleton files**\n",
    "\n",
    "- third line is the number of joints\n",
    "- afterwards there are 25 lines containing some decimal numbers, which are, from left to right:\n",
    "\n",
    "'x', 'y', 'z', 'depthX', 'depthY', 'colorX', 'colorY', ‘'orientationW', 'orientationX', 'orientationY',\n",
    "'orientationZ', 'trackingState' \n",
    "\n",
    "Hence, the above values are given for each of the 25 joints\n",
    "\n",
    "Reference:\n",
    "\n",
    "https://github.com/lshiwjx/2s-AGCN/blob/master/data_gen/ntu_gendata.py#L48"
   ]
  },
  {
   "cell_type": "code",
   "execution_count": 4,
   "metadata": {},
   "outputs": [
    {
     "name": "stdout",
     "output_type": "stream",
     "text": [
      "['529\\n',\n",
      " '1\\n',\n",
      " '223 NaN NaN NaN NaN NaN NaN NaN NaN NaN \\n',\n",
      " '25\\n',\n",
      " '0.0019892 0.00905 -0.028848 NaN NaN NaN NaN 0 0 0 0 -0 \\n',\n",
      " '0.001969 0.0058022 -0.02923 NaN NaN NaN NaN 0 0 0 0 -0 \\n',\n",
      " '0.0019358 0.0026037 -0.029446 NaN NaN NaN NaN 0 0 0 0 -0 \\n',\n",
      " '0.0019473 0.0011242 -0.029826 NaN NaN NaN NaN 0 0 0 0 -0 \\n',\n",
      " '0.0035582 0.0037362 -0.028889 NaN NaN NaN NaN 0 0 0 0 -0 \\n',\n",
      " '0.0045751 0.0058342 -0.028285 NaN NaN NaN NaN 0 0 0 0 -0 \\n',\n",
      " '0.0053791 0.007519 -0.027744 NaN NaN NaN NaN 0 0 0 0 -0 \\n',\n",
      " '0.0053168 0.0077248 -0.027392 NaN NaN NaN NaN 0 0 0 0 -0 \\n',\n",
      " '0.00019174 0.0039004 -0.02902 NaN NaN NaN NaN 0 0 0 0 -0 \\n',\n",
      " '-0.0010224 0.0059358 -0.028695 NaN NaN NaN NaN 0 0 0 0 -0 \\n',\n",
      " '-0.0020125 0.0075624 -0.028148 NaN NaN NaN NaN 0 0 0 0 -0 \\n',\n",
      " '-0.0018793 0.0077416 -0.027795 NaN NaN NaN NaN 0 0 0 0 -0 \\n',\n",
      " '0.0027391 0.0088902 -0.028445 NaN NaN NaN NaN 0 0 0 0 -0 \\n',\n",
      " '0.0026308 0.012444 -0.028787 NaN NaN NaN NaN 0 0 0 0 -0 \\n',\n",
      " '0.0028615 0.015845 -0.029224 NaN NaN NaN NaN 0 0 0 0 -0 \\n',\n",
      " '0.0028592 0.016259 -0.027688 NaN NaN NaN NaN 0 0 0 0 -0 \\n',\n",
      " '0.0011883 0.0089735 -0.028509 NaN NaN NaN NaN 0 0 0 0 -0 \\n',\n",
      " '0.0013791 0.012539 -0.028832 NaN NaN NaN NaN 0 0 0 0 -0 \\n',\n",
      " '0.0010944 0.016054 -0.029314 NaN NaN NaN NaN 0 0 0 0 -0 \\n',\n",
      " '0.0006836 0.016721 -0.028389 NaN NaN NaN NaN 0 0 0 0 -0 \\n',\n",
      " '0.0019458 0.0033964 -0.02942 NaN NaN NaN NaN 0 0 0 0 -0 \\n',\n",
      " '0.0053689 0.0080741 -0.027111 NaN NaN NaN NaN 0 0 0 0 -0 \\n',\n",
      " '0.0046464 0.0079057 -0.026994 NaN NaN NaN NaN 0 0 0 0 -0 \\n',\n",
      " '-0.0018816 0.0080972 -0.027538 NaN NaN NaN NaN 0 0 0 0 -0 \\n',\n",
      " '-0.00087817 0.0078252 -0.027328 NaN NaN NaN NaN 0 0 0 0 -0 \\n']\n"
     ]
    }
   ],
   "source": [
    "with open(\"B_ID1Es1.skeleton\", \"r\") as skeleton_file:\n",
    "    data = skeleton_file.readlines()\n",
    "    pprint(data[:29]) # the very first line in the file + each sequence is 28 lines"
   ]
  },
  {
   "cell_type": "markdown",
   "metadata": {},
   "source": [
    "#### Lab kinect data format\n",
    "\n",
    "Essentially, the researchers saved the metadata from the kinect into the .mat files"
   ]
  },
  {
   "cell_type": "code",
   "execution_count": 5,
   "metadata": {},
   "outputs": [],
   "source": [
    "import os\n",
    "import scipy.io\n",
    "import numpy as np"
   ]
  },
  {
   "cell_type": "code",
   "execution_count": 9,
   "metadata": {},
   "outputs": [],
   "source": [
    "mat_file_root = \"E:/JubairAhmed/Rehab Project/Rehab-Demo-Pipeline-v2/old_code/kinect/data/\"\n",
    "mat_files_paths = list(\n",
    "    map(\n",
    "        lambda file_name: os.path.join(mat_file_root, file_name), \n",
    "        os.listdir(mat_file_root)\n",
    "    )\n",
    ")"
   ]
  },
  {
   "cell_type": "code",
   "execution_count": 10,
   "metadata": {
    "scrolled": true
   },
   "outputs": [
    {
     "name": "stdout",
     "output_type": "stream",
     "text": [
      "\n",
      "Reading file:  E:/JubairAhmed/Rehab Project/Rehab-Demo-Pipeline-v2/old_code/kinect/data/2018-09-25-20-19-39.mat\n",
      "dict_keys(['__header__', '__version__', '__globals__', 'data'])\n",
      "(1, 237)\n",
      "(237,)\n",
      "<class 'numpy.void'>\n",
      "\n",
      "Reading file:  E:/JubairAhmed/Rehab Project/Rehab-Demo-Pipeline-v2/old_code/kinect/data/2018-09-25-20-19-55.mat\n",
      "dict_keys(['__header__', '__version__', '__globals__', 'data'])\n",
      "(1, 237)\n",
      "(237,)\n",
      "<class 'numpy.void'>\n",
      "\n",
      "Reading file:  E:/JubairAhmed/Rehab Project/Rehab-Demo-Pipeline-v2/old_code/kinect/data/2018-09-25-22-42-09.mat\n",
      "dict_keys(['__header__', '__version__', '__globals__', 'data'])\n",
      "(1, 272)\n",
      "(272,)\n",
      "<class 'numpy.void'>\n",
      "\n",
      "Reading file:  E:/JubairAhmed/Rehab Project/Rehab-Demo-Pipeline-v2/old_code/kinect/data/2018-09-26-11-30-37.mat\n",
      "dict_keys(['__header__', '__version__', '__globals__', 'data'])\n",
      "(1, 304)\n",
      "(304,)\n",
      "<class 'numpy.void'>\n",
      "\n",
      "Reading file:  E:/JubairAhmed/Rehab Project/Rehab-Demo-Pipeline-v2/old_code/kinect/data/2018-09-26-11-41-36.mat\n",
      "dict_keys(['__header__', '__version__', '__globals__', 'data'])\n",
      "(1, 331)\n",
      "(331,)\n",
      "<class 'numpy.void'>\n",
      "\n",
      "Reading file:  E:/JubairAhmed/Rehab Project/Rehab-Demo-Pipeline-v2/old_code/kinect/data/2018-10-10-02-45-36.mat\n",
      "dict_keys(['__header__', '__version__', '__globals__', 'data'])\n",
      "(1, 331)\n",
      "(331,)\n",
      "<class 'numpy.void'>\n",
      "\n",
      "Reading file:  E:/JubairAhmed/Rehab Project/Rehab-Demo-Pipeline-v2/old_code/kinect/data/2018-10-10-02-49-25.mat\n",
      "dict_keys(['__header__', '__version__', '__globals__', 'data'])\n",
      "(1, 224)\n",
      "(224,)\n",
      "<class 'numpy.void'>\n",
      "\n",
      "Reading file:  E:/JubairAhmed/Rehab Project/Rehab-Demo-Pipeline-v2/old_code/kinect/data/2018-10-12-02-22-42.mat\n",
      "dict_keys(['__header__', '__version__', '__globals__', 'data'])\n",
      "(1, 274)\n",
      "(274,)\n",
      "<class 'numpy.void'>\n",
      "\n",
      "Reading file:  E:/JubairAhmed/Rehab Project/Rehab-Demo-Pipeline-v2/old_code/kinect/data/2018-10-14-02-21-45.mat\n",
      "dict_keys(['__header__', '__version__', '__globals__', 'data'])\n",
      "(1, 274)\n",
      "(274,)\n",
      "<class 'numpy.void'>\n",
      "\n",
      "Reading file:  E:/JubairAhmed/Rehab Project/Rehab-Demo-Pipeline-v2/old_code/kinect/data/2018-10-14-02-24-09.mat\n",
      "dict_keys(['__header__', '__version__', '__globals__', 'data'])\n",
      "(1, 274)\n",
      "(274,)\n",
      "<class 'numpy.void'>\n",
      "\n",
      "Reading file:  E:/JubairAhmed/Rehab Project/Rehab-Demo-Pipeline-v2/old_code/kinect/data/2018-10-14-02-26-49.mat\n",
      "dict_keys(['__header__', '__version__', '__globals__', 'data'])\n",
      "(1, 234)\n",
      "(234,)\n",
      "<class 'numpy.void'>\n",
      "\n",
      "Reading file:  E:/JubairAhmed/Rehab Project/Rehab-Demo-Pipeline-v2/old_code/kinect/data/2018-11-25-10-22-47.mat\n",
      "dict_keys(['__header__', '__version__', '__globals__', 'data'])\n",
      "(1, 171)\n",
      "(171,)\n",
      "<class 'numpy.void'>\n",
      "\n",
      "Reading file:  E:/JubairAhmed/Rehab Project/Rehab-Demo-Pipeline-v2/old_code/kinect/data/2018-12-05-02-22-02.mat\n",
      "dict_keys(['__header__', '__version__', '__globals__', 'data'])\n",
      "(1, 299)\n",
      "(299,)\n",
      "<class 'numpy.void'>\n",
      "\n",
      "Reading file:  E:/JubairAhmed/Rehab Project/Rehab-Demo-Pipeline-v2/old_code/kinect/data/2018-12-08-23-17-24.mat\n",
      "dict_keys(['__header__', '__version__', '__globals__', 'data'])\n",
      "(1, 251)\n",
      "(251,)\n",
      "<class 'numpy.void'>\n",
      "\n",
      "Reading file:  E:/JubairAhmed/Rehab Project/Rehab-Demo-Pipeline-v2/old_code/kinect/data/2018-12-08-23-17-40.mat\n",
      "dict_keys(['__header__', '__version__', '__globals__', 'data'])\n",
      "(1, 261)\n",
      "(261,)\n",
      "<class 'numpy.void'>\n",
      "\n",
      "Reading file:  E:/JubairAhmed/Rehab Project/Rehab-Demo-Pipeline-v2/old_code/kinect/data/2018-12-08-23-18-06.mat\n",
      "dict_keys(['__header__', '__version__', '__globals__', 'data'])\n",
      "(1, 189)\n",
      "(189,)\n",
      "<class 'numpy.void'>\n",
      "\n",
      "Reading file:  E:/JubairAhmed/Rehab Project/Rehab-Demo-Pipeline-v2/old_code/kinect/data/2018-12-08-23-18-22.mat\n",
      "dict_keys(['__header__', '__version__', '__globals__', 'data'])\n",
      "(1, 289)\n",
      "(289,)\n",
      "<class 'numpy.void'>\n",
      "\n",
      "Reading file:  E:/JubairAhmed/Rehab Project/Rehab-Demo-Pipeline-v2/old_code/kinect/data/2018-12-08-23-18-44.mat\n",
      "dict_keys(['__header__', '__version__', '__globals__', 'data'])\n",
      "(1, 308)\n",
      "(308,)\n",
      "<class 'numpy.void'>\n",
      "\n",
      "Reading file:  E:/JubairAhmed/Rehab Project/Rehab-Demo-Pipeline-v2/old_code/kinect/data/2020-02-09-01-16-56.mat\n",
      "dict_keys(['__header__', '__version__', '__globals__'])\n",
      "Skipping E:/JubairAhmed/Rehab Project/Rehab-Demo-Pipeline-v2/old_code/kinect/data/2020-02-09-01-16-56.mat since it does not have any 'data' key\n",
      "{'__header__': b'MATLAB 5.0 MAT-file, Platform: PCWIN64, Created on: Sun Feb  9 01:16:56 2020', '__version__': '1.0', '__globals__': []}\n",
      "\n",
      "Reading file:  E:/JubairAhmed/Rehab Project/Rehab-Demo-Pipeline-v2/old_code/kinect/data/2020-02-09-01-30-56.mat\n",
      "dict_keys(['__header__', '__version__', '__globals__', 'data'])\n",
      "(1, 644)\n",
      "(644,)\n",
      "<class 'numpy.void'>\n",
      "\n",
      "Reading file:  E:/JubairAhmed/Rehab Project/Rehab-Demo-Pipeline-v2/old_code/kinect/data/2020-02-11-11-27-47.mat\n",
      "dict_keys(['__header__', '__version__', '__globals__', 'data'])\n",
      "(1, 297)\n",
      "(297,)\n",
      "<class 'numpy.void'>\n"
     ]
    }
   ],
   "source": [
    "for mat_file_path in mat_files_paths:\n",
    "    print()\n",
    "    print(\"Reading file: \", mat_file_path)\n",
    "    f = scipy.io.loadmat(mat_file_path)\n",
    "    print(f.keys())\n",
    "    try:\n",
    "        data = f['data']\n",
    "        print(data.shape)\n",
    "        print(data[0].shape)\n",
    "        print(type(data[0][0])) # numpy.void data type: https://stackoverflow.com/questions/25247190/how-to-use-numpy-void-type\n",
    "    except KeyError:\n",
    "        print(\"Skipping {} since it does not have any 'data' key\".format(mat_file_path))\n",
    "        print(f)\n",
    "        continue"
   ]
  },
  {
   "cell_type": "code",
   "execution_count": 11,
   "metadata": {
    "scrolled": true
   },
   "outputs": [
    {
     "data": {
      "text/plain": [
       "['__class__',\n",
       " '__contains__',\n",
       " '__delattr__',\n",
       " '__delitem__',\n",
       " '__dir__',\n",
       " '__doc__',\n",
       " '__eq__',\n",
       " '__format__',\n",
       " '__ge__',\n",
       " '__getattribute__',\n",
       " '__getitem__',\n",
       " '__gt__',\n",
       " '__hash__',\n",
       " '__init__',\n",
       " '__init_subclass__',\n",
       " '__iter__',\n",
       " '__le__',\n",
       " '__len__',\n",
       " '__lt__',\n",
       " '__ne__',\n",
       " '__new__',\n",
       " '__reduce__',\n",
       " '__reduce_ex__',\n",
       " '__repr__',\n",
       " '__setattr__',\n",
       " '__setitem__',\n",
       " '__sizeof__',\n",
       " '__str__',\n",
       " '__subclasshook__',\n",
       " 'clear',\n",
       " 'copy',\n",
       " 'fromkeys',\n",
       " 'get',\n",
       " 'items',\n",
       " 'keys',\n",
       " 'pop',\n",
       " 'popitem',\n",
       " 'setdefault',\n",
       " 'update',\n",
       " 'values']"
      ]
     },
     "execution_count": 11,
     "metadata": {},
     "output_type": "execute_result"
    }
   ],
   "source": [
    "dir(f)"
   ]
  },
  {
   "cell_type": "code",
   "execution_count": 42,
   "metadata": {},
   "outputs": [
    {
     "name": "stdout",
     "output_type": "stream",
     "text": [
      "(1, 237)\n",
      "(237,)\n",
      "<class 'numpy.void'>\n"
     ]
    }
   ],
   "source": [
    "# get an idea on the shape of data\n",
    "data = f['data']\n",
    "print(data.shape)\n",
    "print(data[0].shape)\n",
    "print(type(data[0][1])) # numpy.void data type: https://stackoverflow.com/questions/25247190/how-to-use-numpy-void-type\n",
    "\n",
    "idx = 0\n",
    "# while True:\n",
    "#     try:\n",
    "#         print(data[0][0][idx])\n",
    "#         idx += 1\n",
    "#     except Exception:\n",
    "#         break\n",
    "\n",
    "# print(idx)"
   ]
  },
  {
   "cell_type": "code",
   "execution_count": 26,
   "metadata": {},
   "outputs": [],
   "source": [
    "f2 = scipy.io.loadmat('../old_code/kinect/data/2018-09-25-20-19-39.mat')"
   ]
  },
  {
   "cell_type": "code",
   "execution_count": 78,
   "metadata": {},
   "outputs": [
    {
     "name": "stdout",
     "output_type": "stream",
     "text": [
      "(1, 237)\n",
      "(237,)\n",
      "<class 'numpy.void'>\n",
      "3\n"
     ]
    }
   ],
   "source": [
    "data = f2['data']\n",
    "print(data.shape)\n",
    "print(data[0].shape)\n",
    "print(type(data[0][0])) # numpy.void data type: https://stackoverflow.com/questions/25247190/how-to-use-numpy-void-type\n",
    "\n",
    "track_index = np.where(data[0][0][10][0])[0][0]\n",
    "print(track_index)\n",
    "# print(track_index)\n",
    "# subject_id = \"{:.0f}\".format(data[0][0][2][0][track_index])\n",
    "# print(subject_id)\n",
    "\n",
    "# color_xy_data = data[0][0][3]\n",
    "# color_xy_joint_count = color_xy_data.shape[0]\n",
    "\n",
    "# assert color_xy_joint_count == 25\n",
    "\n",
    "# for joint_index in range(25):\n",
    "#     x, y = color_xy_data[joint_index][0][track_index], color_xy_data[joint_index][1][track_index]\n",
    "#     print(x, y)\n",
    "    \n",
    "# print(\"==========\")\n",
    "    \n",
    "# depth_xy_data = data[0][0][4]\n",
    "# depth_xy_joint_count = depth_xy_data.shape[0]\n",
    "\n",
    "# assert depth_xy_joint_count == 25\n",
    "\n",
    "# for joint_index in range(25):\n",
    "#     x, y = depth_xy_data[joint_index][0][track_index], depth_xy_data[joint_index][1][track_index]\n",
    "#     print(x, y)\n",
    "    \n",
    "# print(\"==========\")\n",
    "\n",
    "# joint_xyz_data = data[0][0][11]\n",
    "# joint_xyz_joint_count = joint_xyz_data.shape[0]\n",
    "\n",
    "# assert joint_xyz_joint_count == 25\n",
    "\n",
    "# for joint_index in range(25):\n",
    "#     x, y, z = joint_xyz_data[joint_index][0][track_index], joint_xyz_data[joint_index][1][track_index], joint_xyz_data[joint_index][2][track_index] \n",
    "#     print(x, y, z)\n",
    "    \n",
    "# tracking_state = data[0][0][12]\n",
    "# tracking_state_joint_count = tracking_state.shape[0]\n",
    "\n",
    "# assert tracking_state_joint_count == 25\n",
    "\n",
    "# for joint_index in range(25):\n",
    "#     track_state = tracking_state[joint_index][track_index]\n",
    "#     print(track_state)\n",
    "    \n",
    "# print(data[0][0][9][0][3])\n",
    "    \n",
    "# data[0][0][2] # body tracking id\n",
    "# data[0][0][3] # color\n",
    "# data[0][0][4] # depth\n",
    "# data[0][0][11] # joint positions\n",
    "# data[0][0][12] # joint tracking state\n",
    "# data[0][0][6] # hand left confidence\n",
    "# data[0][0][7] # hand left state\n",
    "# data[0][0][8] # hand right confidence\n",
    "# data[0][0][9] # hand right state\n",
    "# data[0][0][14] # trigger index"
   ]
  },
  {
   "cell_type": "code",
   "execution_count": 4,
   "metadata": {},
   "outputs": [
    {
     "name": "stderr",
     "output_type": "stream",
     "text": [
      "IOPub data rate exceeded.\n",
      "The notebook server will temporarily stop sending output\n",
      "to the client in order to avoid crashing it.\n",
      "To change this limit, set the config variable\n",
      "`--NotebookApp.iopub_data_rate_limit`.\n",
      "\n",
      "Current values:\n",
      "NotebookApp.iopub_data_rate_limit=1000000.0 (bytes/sec)\n",
      "NotebookApp.rate_limit_window=3.0 (secs)\n",
      "\n"
     ]
    }
   ],
   "source": [
    "print(data)"
   ]
  },
  {
   "cell_type": "code",
   "execution_count": 1,
   "metadata": {},
   "outputs": [],
   "source": [
    "keys = {'__header__': b'MATLAB 5.0 MAT-file, Platform: PCWIN64, Created on: Sun Feb  9 01:16:56 2020', '__version__': '1.0', '__globals__': []}"
   ]
  },
  {
   "cell_type": "code",
   "execution_count": 8,
   "metadata": {},
   "outputs": [
    {
     "data": {
      "text/plain": [
       "'MATLAB 5.0 MAT-file, Platform: PCWIN64, Created on: Sun Feb  9 01:16:56 2020'"
      ]
     },
     "execution_count": 8,
     "metadata": {},
     "output_type": "execute_result"
    }
   ],
   "source": [
    "header = keys[\"__header__\"].decode(\"utf-8\")\n",
    "header"
   ]
  },
  {
   "cell_type": "code",
   "execution_count": 7,
   "metadata": {},
   "outputs": [],
   "source": [
    "import re"
   ]
  },
  {
   "cell_type": "code",
   "execution_count": 19,
   "metadata": {},
   "outputs": [],
   "source": [
    "pattern = r\"MATLAB (\\d+\\.\\d+) *\""
   ]
  },
  {
   "cell_type": "code",
   "execution_count": 61,
   "metadata": {},
   "outputs": [
    {
     "ename": "Exception",
     "evalue": "",
     "output_type": "error",
     "traceback": [
      "\u001b[0;31m---------------------------------------------------------------------------\u001b[0m",
      "\u001b[0;31mException\u001b[0m                                 Traceback (most recent call last)",
      "\u001b[0;32m<ipython-input-61-8c8534246e12>\u001b[0m in \u001b[0;36m<module>\u001b[0;34m\u001b[0m\n\u001b[0;32m----> 1\u001b[0;31m \u001b[0;32mif\u001b[0m \u001b[0;36m1\u001b[0m \u001b[0;34m==\u001b[0m \u001b[0;36m1\u001b[0m\u001b[0;34m:\u001b[0m \u001b[0;32mraise\u001b[0m \u001b[0mException\u001b[0m\u001b[0;34m(\u001b[0m\u001b[0;34m)\u001b[0m\u001b[0;34m\u001b[0m\u001b[0;34m\u001b[0m\u001b[0m\n\u001b[0m",
      "\u001b[0;31mException\u001b[0m: "
     ]
    }
   ],
   "source": [
    "if 1 == 1: raise Exception() "
   ]
  },
  {
   "cell_type": "code",
   "execution_count": 62,
   "metadata": {},
   "outputs": [
    {
     "data": {
      "text/plain": [
       "nan"
      ]
     },
     "execution_count": 62,
     "metadata": {},
     "output_type": "execute_result"
    }
   ],
   "source": [
    "np.nan"
   ]
  },
  {
   "cell_type": "code",
   "execution_count": null,
   "metadata": {},
   "outputs": [],
   "source": []
  }
 ],
 "metadata": {
  "kernelspec": {
   "display_name": "Python 3.7.13 ('kinect2')",
   "language": "python",
   "name": "python3"
  },
  "language_info": {
   "codemirror_mode": {
    "name": "ipython",
    "version": 3
   },
   "file_extension": ".py",
   "mimetype": "text/x-python",
   "name": "python",
   "nbconvert_exporter": "python",
   "pygments_lexer": "ipython3",
   "version": "3.7.13"
  },
  "vscode": {
   "interpreter": {
    "hash": "008a25b31f75f5793041191e300417e5dce3368867c37cf505fa9081b35a6300"
   }
  }
 },
 "nbformat": 4,
 "nbformat_minor": 4
}
